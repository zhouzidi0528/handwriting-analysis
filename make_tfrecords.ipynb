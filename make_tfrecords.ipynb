{
 "cells": [
  {
   "cell_type": "code",
   "execution_count": 1,
   "metadata": {},
   "outputs": [],
   "source": [
    "import numpy as np\n",
    "import tensorflow as tf\n",
    "import os\n",
    "from PIL import Image\n",
    "import glob\n",
    "import pandas as pd\n",
    "from tqdm import tqdm"
   ]
  },
  {
   "cell_type": "code",
   "execution_count": 2,
   "metadata": {},
   "outputs": [],
   "source": [
    "N_W = 32\n",
    "N_H = 32\n",
    "N_C = 3\n",
    "N_CLASS = 369\n",
    "bool = 'test.tfrecords'     # 选择测试集或者训练集  train/test\n",
    "pics_dir = './data/hasy-data'  #图片目录\n",
    "tfrecords_dir = './data/tfrecords'  #tfrecords目录\n"
   ]
  },
  {
   "cell_type": "code",
   "execution_count": 3,
   "metadata": {},
   "outputs": [],
   "source": [
    "#获取图片路径和标签\n",
    "def data_label():\n",
    "    filelist = []\n",
    "    for file in glob.glob(r'data/classification-task/*/test.csv'):    #train/test\n",
    "        df = pd.read_csv(file)\n",
    "        filelist.append(df)\n",
    "    df = pd.concat(filelist)\n",
    "    paths = list(df['path'])\n",
    "    label_list = list(df['symbol_id'])\n",
    "\n",
    "    df.drop_duplicates(['symbol_id'], inplace=True)\n",
    "    print(df)\n",
    "    old_name = list(df['latex'])\n",
    "    old_label = list(df['symbol_id'])\n",
    "    label_dict = dict(map(reversed, enumerate(old_label)))\n",
    "    print(label_dict)\n",
    "    return paths, label_list, label_dict"
   ]
  },
  {
   "cell_type": "code",
   "execution_count": 4,
   "metadata": {},
   "outputs": [],
   "source": [
    "# 制作tfrecords数据\n",
    "def maketfrecord(paths, label_list, label_dict, bool):  \n",
    "\n",
    "    writer = tf.python_io.TFRecordWriter(os.path.join(tfrecords_dir, bool))\n",
    "    for i in tqdm(range(len(paths))):\n",
    "        index = label_dict.get(label_list[i])\n",
    "        path= paths[i].split('/')[-1]\n",
    "        # print(label_list[i], index, path)\n",
    "\n",
    "        img = Image.open(os.path.join(pics_dir, path))\n",
    "        img = img.resize((N_W, N_H))\n",
    "        img_raw = img.tobytes()\n",
    "        example = tf.train.Example(features=tf.train.Features(feature={\n",
    "            \"label\": tf.train.Feature(int64_list=tf.train.Int64List(value=[index])),\n",
    "            'img_raw': tf.train.Feature(bytes_list=tf.train.BytesList(value=[img_raw]))\n",
    "        }))\n",
    "\n",
    "        writer.write(example.SerializeToString())\n",
    "\n",
    "    writer.close()\n",
    "    print(\"生成成功\")"
   ]
  },
  {
   "cell_type": "code",
   "execution_count": null,
   "metadata": {},
   "outputs": [],
   "source": [
    "paths, label_list, label_dict = data_label()\n",
    "    # print(paths)\n",
    "maketfrecord(paths, label_list, label_dict, bool)"
   ]
  },
  {
   "cell_type": "code",
   "execution_count": null,
   "metadata": {},
   "outputs": [],
   "source": []
  }
 ],
 "metadata": {
  "kernelspec": {
   "display_name": "Python 3",
   "language": "python",
   "name": "python3"
  },
  "language_info": {
   "codemirror_mode": {
    "name": "ipython",
    "version": 3
   },
   "file_extension": ".py",
   "mimetype": "text/x-python",
   "name": "python",
   "nbconvert_exporter": "python",
   "pygments_lexer": "ipython3",
   "version": "3.7.6"
  }
 },
 "nbformat": 4,
 "nbformat_minor": 2
}
