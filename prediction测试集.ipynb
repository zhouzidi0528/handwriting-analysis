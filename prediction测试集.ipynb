{
 "cells": [
  {
   "cell_type": "code",
   "execution_count": 1,
   "metadata": {
    "ExecuteTime": {
     "end_time": "2020-01-10T02:49:08.244890Z",
     "start_time": "2020-01-10T02:49:06.946709Z"
    }
   },
   "outputs": [],
   "source": [
    "import numpy as np\n",
    "import os\n",
    "import cv2\n",
    "import tensorflow as tf\n",
    "from PIL import Image\n",
    "import glob\n",
    "import pandas as pd\n",
    "from tqdm import tqdm"
   ]
  },
  {
   "cell_type": "code",
   "execution_count": 2,
   "metadata": {
    "ExecuteTime": {
     "end_time": "2020-01-10T02:49:08.250028Z",
     "start_time": "2020-01-10T02:49:08.246826Z"
    }
   },
   "outputs": [],
   "source": [
    "os.environ[\"CUDA_DEVICE_ORDER\"] = \"PCI_BUS_ID\"\n",
    "os.environ[\"CUDA_VISIBLE_DEVICES\"] = \"0\"\n",
    "\n",
    "N_W = 32\n",
    "N_H = 32\n",
    "predictpic_path = './data/new_data'   #预测图片存储的路径\n",
    "logpath = './logs'   "
   ]
  },
  {
   "cell_type": "code",
   "execution_count": 3,
   "metadata": {
    "ExecuteTime": {
     "end_time": "2020-01-10T02:49:08.260267Z",
     "start_time": "2020-01-10T02:49:08.252957Z"
    }
   },
   "outputs": [],
   "source": [
    "# 读取保存了框架和参数的pb文件\n",
    "def load_graph(frozen_graph_filename):\n",
    "    with tf.gfile.GFile(frozen_graph_filename, \"rb\") as f:\n",
    "        graph_def = tf.GraphDef()\n",
    "        graph_def.ParseFromString(f.read())\n",
    "\n",
    "    with tf.Graph().as_default() as graph:\n",
    "        tf.import_graph_def(\n",
    "            graph_def,\n",
    "            input_map=None,\n",
    "            return_elements=None,\n",
    "            name=\"prefix\",\n",
    "            op_dict=None,\n",
    "            producer_op_list=None\n",
    "        )\n",
    "    return graph"
   ]
  },
  {
   "cell_type": "code",
   "execution_count": 4,
   "metadata": {
    "ExecuteTime": {
     "end_time": "2020-01-10T02:49:08.271163Z",
     "start_time": "2020-01-10T02:49:08.262507Z"
    }
   },
   "outputs": [],
   "source": [
    "def data_label():\n",
    "    filelist = []\n",
    "    for file in glob.glob(r'data/classification-task2/*/test.csv'):  # train/test\n",
    "        df = pd.read_csv(file)\n",
    "        filelist.append(df)\n",
    "    df = pd.concat(filelist)\n",
    "    paths = list(df['path'])\n",
    "    label_list = list(df['symbol_id'])\n",
    "    \n",
    "    \n",
    "    df.drop_duplicates(['symbol_id'], inplace=True)\n",
    "    old_name = list(df['latex'])\n",
    "    old_label = list(df['symbol_id'])\n",
    "    index = list(range(369))\n",
    "    name_dict = dict(zip(old_label, old_name))\n",
    "    label_dict = dict(zip(index, old_label))\n",
    "    return paths, label_list, label_dict, name_dict"
   ]
  },
  {
   "cell_type": "code",
   "execution_count": 5,
   "metadata": {
    "ExecuteTime": {
     "end_time": "2020-01-10T02:49:08.280365Z",
     "start_time": "2020-01-10T02:49:08.273303Z"
    }
   },
   "outputs": [],
   "source": [
    "def model_predict(filepath, sess, x, y, z):\n",
    "    _, _, label_dict, name_dict = data_label()\n",
    "\n",
    "    # input = cv2.imread(filepath)\n",
    "    image = cv2.resize(filepath, (32, 32))\n",
    "    image = cv2.cvtColor(image, cv2.COLOR_BGR2RGB)\n",
    "#     image = cv2.resize(filepath, (32, 32))\n",
    "\n",
    "    image = np.expand_dims(image, axis=0)\n",
    "    y_out = sess.run(y, feed_dict={\n",
    "        x: image,\n",
    "        z: 1\n",
    "    })\n",
    "    output = name_dict.get(label_dict.get(np.argmax(y_out, 1)[0]))\n",
    "#     print(output)\n",
    "    return output"
   ]
  },
  {
   "cell_type": "code",
   "execution_count": 6,
   "metadata": {
    "ExecuteTime": {
     "end_time": "2020-01-10T02:49:12.777715Z",
     "start_time": "2020-01-10T02:49:08.282267Z"
    }
   },
   "outputs": [
    {
     "name": "stdout",
     "output_type": "stream",
     "text": [
      "WARNING:tensorflow:From <ipython-input-3-3409785de66f>:14: calling import_graph_def (from tensorflow.python.framework.importer) with op_dict is deprecated and will be removed in a future version.\n",
      "Instructions for updating:\n",
      "Please file an issue at https://github.com/tensorflow/tensorflow/issues if you depend on this feature.\n",
      "file:./data/new_data/v2-00002.png, result:A\n",
      "file:./data/new_data/v2-00007.png, result:A\n",
      "file:./data/new_data/v2-00000.png, result:A\n",
      "file:./data/new_data/v2-00003.png, result:A\n",
      "file:./data/new_data/v2-00069.png, result:G\n",
      "file:./data/new_data/v2-00072.png, result:G\n",
      "file:./data/new_data/v2-00074.png, result:G\n",
      "file:./data/new_data/v2-00070.png, result:G\n",
      "file:./data/new_data/v2-00068.png, result:G\n",
      "file:./data/new_data/v2-00065.png, result:G\n",
      "file:./data/new_data/v2-00073.png, result:G\n",
      "file:./data/new_data/v2-00066.png, result:G\n",
      "file:./data/new_data/v2-00009.png, result:A\n",
      "file:./data/new_data/v2-00006.png, result:A\n",
      "file:./data/new_data/v2-00008.png, result:A\n",
      "file:./data/new_data/v2-00071.png, result:\\zeta\n",
      "file:./data/new_data/v2-00004.png, result:A\n",
      "file:./data/new_data/v2-00001.png, result:A\n",
      "file:./data/new_data/v2-00005.png, result:A\n",
      "file:./data/new_data/v2-00067.png, result:G\n"
     ]
    }
   ],
   "source": [
    "#预测单张图片，并将图片名和结果输出到log1.txt文件\n",
    "log1 = open('./log1.txt', 'w')\n",
    "graph = load_graph(os.path.join('./logs', 'frozen_model2.pb'))\n",
    "x = graph.get_tensor_by_name('prefix/Placeholder:0')\n",
    "y = graph.get_tensor_by_name('prefix/output_node:0')\n",
    "z = graph.get_tensor_by_name('prefix/training:0')\n",
    "with tf.Session(graph=graph) as sess:\n",
    "    for pic in os.listdir(predictpic_path):\n",
    "        img = cv2.imread(os.path.join(predictpic_path,pic))\n",
    "        output = model_predict(img, sess, x, y, z)\n",
    "        print('file:{}, result:{}'.format(os.path.join(predictpic_path,pic), output))\n",
    "        print('file:{}, result:{}'.format(os.path.join(predictpic_path,pic), output), file = log1)\n",
    "log1.close()"
   ]
  },
  {
   "cell_type": "code",
   "execution_count": 7,
   "metadata": {
    "ExecuteTime": {
     "end_time": "2020-01-10T02:49:12.785523Z",
     "start_time": "2020-01-10T02:49:12.780248Z"
    }
   },
   "outputs": [],
   "source": [
    "def model_predict_2(filepath, sess, x, y, z):\n",
    "    _, _, label_dict, name_dict = data_label()\n",
    "\n",
    "    # input = cv2.imread(filepath)\n",
    "    image = cv2.resize(filepath, (32, 32))\n",
    "    image = cv2.cvtColor(image, cv2.COLOR_BGR2RGB)\n",
    "#     image = cv2.resize(filepath, (32, 32))\n",
    "\n",
    "    image = np.expand_dims(image, axis=0)\n",
    "    y_out = sess.run(y, feed_dict={\n",
    "        x: image,\n",
    "        z: 1\n",
    "    })\n",
    "    output1 = label_dict.get(np.argmax(y_out, 1)[0])\n",
    "    output2 = name_dict.get(label_dict.get(np.argmax(y_out, 1)[0]))\n",
    "#     print(output)\n",
    "    return output1, output2"
   ]
  },
  {
   "cell_type": "code",
   "execution_count": 8,
   "metadata": {
    "ExecuteTime": {
     "end_time": "2020-01-10T03:45:53.956965Z",
     "start_time": "2020-01-10T02:49:12.788456Z"
    }
   },
   "outputs": [
    {
     "name": "stderr",
     "output_type": "stream",
     "text": [
      "100%|██████████| 50528/50528 [56:40<00:00, 14.86it/s]  "
     ]
    },
    {
     "name": "stdout",
     "output_type": "stream",
     "text": [
      "acc: 0.85447673\n"
     ]
    },
    {
     "name": "stderr",
     "output_type": "stream",
     "text": [
      "\n"
     ]
    }
   ],
   "source": [
    "#计算准确率\n",
    "log2 = open('./log2.txt', 'w')\n",
    "graph = load_graph(os.path.join('./logs', 'frozen_model2.pb'))\n",
    "x = graph.get_tensor_by_name('prefix/Placeholder:0')\n",
    "y = graph.get_tensor_by_name('prefix/output_node:0')\n",
    "z = graph.get_tensor_by_name('prefix/training:0')\n",
    "\n",
    "count = 0\n",
    "bools = 0\n",
    "paths, label_list, _, _ = data_label()\n",
    "\n",
    "\n",
    "with tf.Session(graph=graph) as sess:\n",
    "    for i in tqdm(range(len(paths))):\n",
    "        pic_name = paths[i].split('..')[-1][1:]\n",
    "#         print(pic_name)\n",
    "#         print(os.path.join('./data',str(pic_name)))\n",
    "        img = cv2.imread(os.path.join('./data',pic_name))\n",
    "        \n",
    "        output1, output2 = model_predict_2(img, sess, x, y, z)\n",
    "#         result.append(output)\n",
    "        if (output1 == label_list[i]):\n",
    "            count += 1\n",
    "            bools = 1\n",
    "        else:\n",
    "            bools = 0\n",
    "        print('file:{}, result:{}, bools:{}'.format(os.path.join('./data',pic_name), output2, bools), file = log2)\n",
    "log2.close()\n",
    "print('acc: %.8f' % (count/len(paths)))\n"
   ]
  },
  {
   "cell_type": "code",
   "execution_count": null,
   "metadata": {},
   "outputs": [],
   "source": []
  }
 ],
 "metadata": {
  "kernelspec": {
   "display_name": "Python 3",
   "language": "python",
   "name": "python3"
  },
  "language_info": {
   "codemirror_mode": {
    "name": "ipython",
    "version": 3
   },
   "file_extension": ".py",
   "mimetype": "text/x-python",
   "name": "python",
   "nbconvert_exporter": "python",
   "pygments_lexer": "ipython3",
   "version": "3.7.6"
  },
  "varInspector": {
   "cols": {
    "lenName": 16,
    "lenType": 16,
    "lenVar": 40
   },
   "kernels_config": {
    "python": {
     "delete_cmd_postfix": "",
     "delete_cmd_prefix": "del ",
     "library": "var_list.py",
     "varRefreshCmd": "print(var_dic_list())"
    },
    "r": {
     "delete_cmd_postfix": ") ",
     "delete_cmd_prefix": "rm(",
     "library": "var_list.r",
     "varRefreshCmd": "cat(var_dic_list()) "
    }
   },
   "types_to_exclude": [
    "module",
    "function",
    "builtin_function_or_method",
    "instance",
    "_Feature"
   ],
   "window_display": false
  }
 },
 "nbformat": 4,
 "nbformat_minor": 2
}
